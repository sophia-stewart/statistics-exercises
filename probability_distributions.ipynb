{
 "cells": [
  {
   "cell_type": "markdown",
   "id": "edc38625",
   "metadata": {},
   "source": [
    "# Probability Distribution Exercises"
   ]
  },
  {
   "cell_type": "markdown",
   "id": "318943bf",
   "metadata": {},
   "source": [
    "#### 1. A bank found that the average number of cars waiting during the noon hour at a drive-up window follows a Poisson distribution with a mean of 2 cars. Make a chart of this distribution and answer these questions concerning the probability of cars waiting at the drive-up window."
   ]
  },
  {
   "cell_type": "code",
   "execution_count": 2,
   "id": "45213b6d",
   "metadata": {},
   "outputs": [
    {
     "data": {
      "image/png": "[encoded data removed]",
      "text/plain": [
       "<Figure size 432x288 with 1 Axes>"
      ]
     },
     "metadata": {
      "needs_background": "light"
     },
     "output_type": "display_data"
    }
   ],
   "source": [
    "import numpy as np\n",
    "import matplotlib.pyplot as plt\n",
    "import pandas as pd\n",
    "from scipy import stats\n",
    "\n",
    "# average rate of 2 cars during noon hour\n",
    "λ = 2\n",
    "# set x and y values\n",
    "x = np.arange(0,15)\n",
    "y = stats.poisson(λ).pmf(x)\n",
    "# plot distribution\n",
    "plt.bar(x,y)\n",
    "# add title and axis labels\n",
    "plt.xlabel('Number of cars waiting during the noon hour')\n",
    "plt.ylabel('P(X)')\n",
    "plt.title('Poisson distribution $λ = 2$');"
   ]
  },
  {
   "cell_type": "markdown",
   "id": "b216cdca",
   "metadata": {},
   "source": [
    "#### 1a. What is the probability that no cars drive up in the noon hour?"
   ]
  },
  {
   "cell_type": "code",
   "execution_count": 3,
   "id": "82d49c83",
   "metadata": {},
   "outputs": [
    {
     "data": {
      "text/plain": [
       "0.1353352832366127"
      ]
     },
     "execution_count": 3,
     "metadata": {},
     "output_type": "execute_result"
    }
   ],
   "source": [
    "stats.poisson(λ).pmf(0)"
   ]
  },
  {
   "cell_type": "markdown",
   "id": "efba1c77",
   "metadata": {},
   "source": [
    "#### 1b. What is the probability that 3 or more cars come through the drive through?"
   ]
  },
  {
   "cell_type": "code",
   "execution_count": 4,
   "id": "2f568d71",
   "metadata": {},
   "outputs": [
    {
     "data": {
      "text/plain": [
       "0.32332358381693654"
      ]
     },
     "execution_count": 4,
     "metadata": {},
     "output_type": "execute_result"
    }
   ],
   "source": [
    "stats.poisson(λ).sf(2)"
   ]
  },
  {
   "cell_type": "markdown",
   "id": "8a565935",
   "metadata": {},
   "source": [
    "#### 1c. How likely is it that the drive through gets at least 1 car?"
   ]
  },
  {
   "cell_type": "code",
   "execution_count": 5,
   "id": "78643fa3",
   "metadata": {},
   "outputs": [
    {
     "data": {
      "text/plain": [
       "0.8646647167633873"
      ]
     },
     "execution_count": 5,
     "metadata": {},
     "output_type": "execute_result"
    }
   ],
   "source": [
    "stats.poisson(λ).sf(0)"
   ]
  },
  {
   "cell_type": "markdown",
   "id": "980d6665",
   "metadata": {},
   "source": [
    "#### 2. Grades of State University graduates are normally distributed with a mean of 3.0 and a standard deviation of .3. Calculate the following:\n",
    "#### 2a. What grade point average is required to be in the top 5% of the graduating class?"
   ]
  },
  {
   "cell_type": "code",
   "execution_count": 6,
   "id": "fc359c7f",
   "metadata": {},
   "outputs": [
    {
     "data": {
      "text/plain": [
       "3.4934560880854417"
      ]
     },
     "execution_count": 6,
     "metadata": {},
     "output_type": "execute_result"
    }
   ],
   "source": [
    "μ = 3\n",
    "σ = 0.3\n",
    "\n",
    "grades = stats.norm(μ, σ)\n",
    "\n",
    "grades.isf(0.05)"
   ]
  },
  {
   "cell_type": "markdown",
   "id": "a6d3248c",
   "metadata": {},
   "source": [
    "#### 2b. What GPA constitutes the bottom 15% of the class?"
   ]
  },
  {
   "cell_type": "code",
   "execution_count": 62,
   "id": "38858aea",
   "metadata": {},
   "outputs": [
    {
     "data": {
      "text/plain": [
       "2.689069983151863"
      ]
     },
     "execution_count": 62,
     "metadata": {},
     "output_type": "execute_result"
    }
   ],
   "source": [
    "grades.ppf(0.15)"
   ]
  },
  {
   "cell_type": "markdown",
   "id": "7f931a9e",
   "metadata": {},
   "source": [
    "#### 2c. An eccentric alumnus left scholarship money for students in the third decile from the bottom of their class. Determine the range of the third decile. Would a student with a 2.8 grade point average qualify for this scholarship?"
   ]
  },
  {
   "cell_type": "code",
   "execution_count": 21,
   "id": "cd772785",
   "metadata": {},
   "outputs": [
    {
     "name": "stdout",
     "output_type": "stream",
     "text": [
      "The range of the third decile from the bottom of the class is 2.75 to 2.84. \n",
      "\n",
      "A student with a 2.8 GPA would qualify for this scholarship.\n"
     ]
    }
   ],
   "source": [
    "print(f'The range of the third decile from the bottom of the class is {round(grades.isf(0.8), 2)} to {round(grades.isf(0.7), 2)}. \\n\\nA student with a 2.8 GPA would qualify for this scholarship.')"
   ]
  },
  {
   "cell_type": "markdown",
   "id": "a49811a9",
   "metadata": {},
   "source": [
    "#### 2d. If I have a GPA of 3.5, what percentile am I in?"
   ]
  },
  {
   "cell_type": "code",
   "execution_count": 20,
   "id": "fcc9714b",
   "metadata": {},
   "outputs": [
    {
     "data": {
      "text/plain": [
       "0.05"
      ]
     },
     "execution_count": 20,
     "metadata": {},
     "output_type": "execute_result"
    }
   ],
   "source": [
    "round(grades.sf(3.5), 2)\n",
    "# 5th percentile"
   ]
  },
  {
   "cell_type": "markdown",
   "id": "a9038ff3",
   "metadata": {},
   "source": [
    "#### 3. A marketing website has an average click-through rate of 2%. One day they observe 4326 visitors and 97 click-throughs. How likely is it that this many people or more click through?"
   ]
  },
  {
   "cell_type": "code",
   "execution_count": 22,
   "id": "d65c0e54",
   "metadata": {},
   "outputs": [
    {
     "data": {
      "text/plain": [
       "0.1397582363130086"
      ]
     },
     "execution_count": 22,
     "metadata": {},
     "output_type": "execute_result"
    }
   ],
   "source": [
    "n_trials = 4326\n",
    "p = 0.02\n",
    "\n",
    "clicks = stats.binom(n_trials, p)\n",
    "\n",
    "clicks.sf(96)"
   ]
  },
  {
   "cell_type": "markdown",
   "id": "b59f25b8",
   "metadata": {},
   "source": [
    "#### 4. You are working on some statistics homework consisting of 100 questions where all of the answers are a probability rounded to the hundreths place. Looking to save time, you put down random probabilities as the answer to each question. \n",
    "#### What is the probability that at least one of your first 60 answers is correct?"
   ]
  },
  {
   "cell_type": "code",
   "execution_count": 35,
   "id": "c824cbf0",
   "metadata": {},
   "outputs": [
    {
     "data": {
      "text/plain": [
       "0.4528433576092388"
      ]
     },
     "execution_count": 35,
     "metadata": {},
     "output_type": "execute_result"
    }
   ],
   "source": [
    "n_trials = 60\n",
    "p = 0.01\n",
    "\n",
    "answers = stats.binom(n_trials, p)\n",
    "\n",
    "answers.sf(0)"
   ]
  },
  {
   "cell_type": "markdown",
   "id": "b3e9c7a9",
   "metadata": {},
   "source": [
    "#### 5. The codeup staff tends to get upset when the student break area is not cleaned up. Suppose that there's a 3% chance that any one student cleans the break area when they visit it, and, on any given day, about 90% of the 3 active cohorts of 22 students visit the break area. How likely is it that the break area gets cleaned up each day? How likely is it that it goes two days without getting cleaned up? All week?"
   ]
  },
  {
   "cell_type": "code",
   "execution_count": 36,
   "id": "a86bbfb2",
   "metadata": {},
   "outputs": [
    {
     "data": {
      "text/plain": [
       "0.8342199288437355"
      ]
     },
     "execution_count": 36,
     "metadata": {},
     "output_type": "execute_result"
    }
   ],
   "source": [
    "n_trials = 0.9*3*22\n",
    "p = 0.03\n",
    "\n",
    "cleaned_area = stats.binom(n_trials, p)\n",
    "# each day's probability of break area being cleaned\n",
    "cleaned_area.sf(0)"
   ]
  },
  {
   "cell_type": "code",
   "execution_count": 37,
   "id": "4c6ee499",
   "metadata": {},
   "outputs": [
    {
     "data": {
      "text/plain": [
       "0.026821436301629073"
      ]
     },
     "execution_count": 37,
     "metadata": {},
     "output_type": "execute_result"
    }
   ],
   "source": [
    "# probability of break area not being cleaned for 2 days\n",
    "stats.binom(n_trials*2, p).pmf(0)"
   ]
  },
  {
   "cell_type": "code",
   "execution_count": 38,
   "id": "f78e71f4",
   "metadata": {},
   "outputs": [
    {
     "data": {
      "text/plain": [
       "0.00011781621791055144"
      ]
     },
     "execution_count": 38,
     "metadata": {},
     "output_type": "execute_result"
    }
   ],
   "source": [
    "# probability of break area not being cleaned all week\n",
    "stats.binom(n_trials*5, p).pmf(0)"
   ]
  },
  {
   "cell_type": "markdown",
   "id": "c646e88e",
   "metadata": {},
   "source": [
    "#### 6. You want to get lunch at La Panaderia, but notice that the line is usually very long at lunchtime. After several weeks of careful observation, you notice that the average number of people in line when your lunch break starts is normally distributed with a mean of 15 and standard deviation of 3. If it takes 2 minutes for each person to order, and 10 minutes from ordering to getting your food, what is the likelihood that you have at least 15 minutes left to eat your food before you have to go back to class? Assume you have one hour for lunch, and ignore travel time to and from La Panaderia."
   ]
  },
  {
   "cell_type": "code",
   "execution_count": 48,
   "id": "4e2cb3b1",
   "metadata": {},
   "outputs": [
    {
     "data": {
      "text/plain": [
       "Text(0, 0.5, 'P(X)')"
      ]
     },
     "execution_count": 48,
     "metadata": {},
     "output_type": "execute_result"
    },
    {
     "data": {
      "image/png": "[encoded data removed]",
      "text/plain": [
       "<Figure size 432x288 with 1 Axes>"
      ]
     },
     "metadata": {
      "needs_background": "light"
     },
     "output_type": "display_data"
    }
   ],
   "source": [
    "# multiplied μ and σ by 2 because we need time values and each person takes 2 minutes to order\n",
    "μ = 15*2\n",
    "σ = 3*2\n",
    "\n",
    "lunch_line = stats.norm(μ, σ)\n",
    "\n",
    "x = np.arange(0,60)\n",
    "y = lunch_line.pdf(x)\n",
    "plt.plot(x,y)\n",
    "plt.title('Time spent in lunch line')\n",
    "plt.xlabel('Minutes')\n",
    "plt.ylabel('P(X)')"
   ]
  },
  {
   "cell_type": "code",
   "execution_count": 49,
   "id": "61db4ccf",
   "metadata": {},
   "outputs": [
    {
     "data": {
      "text/plain": [
       "0.7976716190363569"
      ]
     },
     "execution_count": 49,
     "metadata": {},
     "output_type": "execute_result"
    }
   ],
   "source": [
    "# 60 mins for lunch\n",
    "# 15 to eat, 10 waiting for food\n",
    "# Probability of spending 35 mins or less in line\n",
    "\n",
    "lunch_line.cdf(35)"
   ]
  },
  {
   "cell_type": "markdown",
   "id": "c8a5e0b9",
   "metadata": {},
   "source": [
    "#### 7. Connect to the `employees` database and find the average salary of current employees, along with the standard deviation. For the following questions, calculate the answer based on modeling the employees salaries with a normal distribution defined by the calculated mean and standard deviation then compare this answer to the actual values present in the salaries dataset."
   ]
  },
  {
   "cell_type": "code",
   "execution_count": 50,
   "id": "8e39464f",
   "metadata": {},
   "outputs": [],
   "source": [
    "def get_db_url(db_name):\n",
    "    from env import user, host, password\n",
    "    return f'mysql+pymysql://{user}:{password}@{host}/{db_name}'"
   ]
  },
  {
   "cell_type": "code",
   "execution_count": 55,
   "id": "c5427c1e",
   "metadata": {},
   "outputs": [
    {
     "data": {
      "text/html": [
       "<div>\n",
       "<style scoped>\n",
       "    .dataframe tbody tr th:only-of-type {\n",
       "        vertical-align: middle;\n",
       "    }\n",
       "\n",
       "    .dataframe tbody tr th {\n",
       "        vertical-align: top;\n",
       "    }\n",
       "\n",
       "    .dataframe thead th {\n",
       "        text-align: right;\n",
       "    }\n",
       "</style>\n",
       "<table border=\"1\" class=\"dataframe\">\n",
       "  <thead>\n",
       "    <tr style=\"text-align: right;\">\n",
       "      <th></th>\n",
       "      <th>AVG(salary)</th>\n",
       "      <th>STDDEV(salary)</th>\n",
       "    </tr>\n",
       "  </thead>\n",
       "  <tbody>\n",
       "    <tr>\n",
       "      <th>0</th>\n",
       "      <td>72012.2359</td>\n",
       "      <td>17309.959336</td>\n",
       "    </tr>\n",
       "  </tbody>\n",
       "</table>\n",
       "</div>"
      ],
      "text/plain": [
       "   AVG(salary)  STDDEV(salary)\n",
       "0   72012.2359    17309.959336"
      ]
     },
     "execution_count": 55,
     "metadata": {},
     "output_type": "execute_result"
    }
   ],
   "source": [
    "url = get_db_url('employees')\n",
    "sql = '''\n",
    "SELECT AVG(salary), STDDEV(salary)\n",
    "FROM salaries\n",
    "WHERE to_date > CURDATE();\n",
    "'''\n",
    "\n",
    "df = pd.read_sql(sql,url)\n",
    "df"
   ]
  },
  {
   "cell_type": "markdown",
   "id": "59a63f2d",
   "metadata": {},
   "source": [
    "#### 7a. What percent of employees earn less than 60,000?"
   ]
  },
  {
   "cell_type": "code",
   "execution_count": 56,
   "id": "0e8f8970",
   "metadata": {},
   "outputs": [
    {
     "data": {
      "text/plain": [
       "0.24385697091580277"
      ]
     },
     "execution_count": 56,
     "metadata": {},
     "output_type": "execute_result"
    }
   ],
   "source": [
    "μ = 72012.2359\n",
    "σ = 17309.959336\n",
    "\n",
    "earnings = stats.norm(μ, σ)\n",
    "\n",
    "earnings.cdf(60000)"
   ]
  },
  {
   "cell_type": "markdown",
   "id": "68df286c",
   "metadata": {},
   "source": [
    "#### 7b. What percent of employees earn more than 95,000?"
   ]
  },
  {
   "cell_type": "code",
   "execution_count": 57,
   "id": "13e77cb5",
   "metadata": {},
   "outputs": [
    {
     "data": {
      "text/plain": [
       "0.09208773564485367"
      ]
     },
     "execution_count": 57,
     "metadata": {},
     "output_type": "execute_result"
    }
   ],
   "source": [
    "earnings.sf(95000)"
   ]
  },
  {
   "cell_type": "markdown",
   "id": "5e9ad7a1",
   "metadata": {},
   "source": [
    "#### 7c. What percent of employees earn between 65,000 and 80,000?"
   ]
  },
  {
   "cell_type": "code",
   "execution_count": 66,
   "id": "755bb1b8",
   "metadata": {},
   "outputs": [
    {
     "data": {
      "text/plain": [
       "0.3350612231946799"
      ]
     },
     "execution_count": 66,
     "metadata": {},
     "output_type": "execute_result"
    }
   ],
   "source": [
    "over65k = earnings.sf(65000)\n",
    "over80k = earnings.sf(80000)\n",
    "over65k-over80k"
   ]
  },
  {
   "cell_type": "markdown",
   "id": "6027a5d3",
   "metadata": {},
   "source": [
    "#### 7d. What do the top 5% of employees make?"
   ]
  },
  {
   "cell_type": "code",
   "execution_count": 58,
   "id": "536533b5",
   "metadata": {},
   "outputs": [
    {
     "data": {
      "text/plain": [
       "100484.5852962021"
      ]
     },
     "execution_count": 58,
     "metadata": {},
     "output_type": "execute_result"
    }
   ],
   "source": [
    "earnings.isf(0.05)"
   ]
  }
 ],
 "metadata": {
  "kernelspec": {
   "display_name": "Python 3",
   "language": "python",
   "name": "python3"
  },
  "language_info": {
   "codemirror_mode": {
    "name": "ipython",
    "version": 3
   },
   "file_extension": ".py",
   "mimetype": "text/x-python",
   "name": "python",
   "nbconvert_exporter": "python",
   "pygments_lexer": "ipython3",
   "version": "3.8.8"
  }
 },
 "nbformat": 4,
 "nbformat_minor": 5
}
