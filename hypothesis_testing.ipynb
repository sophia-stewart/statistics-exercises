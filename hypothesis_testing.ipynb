{
 "cells": [
  {
   "cell_type": "markdown",
   "id": "d33a9de6",
   "metadata": {},
   "source": [
    "# Hypothesis Testing Exercises"
   ]
  },
  {
   "cell_type": "markdown",
   "id": "c9692f9b",
   "metadata": {},
   "source": [
    "### Overview Exercises"
   ]
  },
  {
   "cell_type": "markdown",
   "id": "e8f15b7d",
   "metadata": {},
   "source": [
    "#### For each of the following questions, formulate a null and alternative hypothesis (be as specific as you can be), then give an example of what a true positive, true negative, type I and type II errors would look like. \n",
    "\n",
    "#### Note that some of the questions are intentionally phrased in a vague way. It is your job to reword these as more precise questions that could be tested."
   ]
  },
  {
   "cell_type": "markdown",
   "id": "1c0ab2ac",
   "metadata": {},
   "source": [
    "- Has the network latency gone up since we switched internet service providers?\n",
    "    - Null Hypothesis: The network latency was not increased by the change in ISP.\n",
    "    - Alternative Hypothesis: Network latency is higher now than before the ISP changed.\n",
    "    - True Positive: Conclude latency has increased and latency actually has increased due to the ISP change.\n",
    "    - True Negative: Conclude latency has not increased and latency has actually not increased due to the ISP change.\n",
    "    - Type I Error: Conclude latency has increased and latency actually has not increased due to the ISP change.\n",
    "    - Type II Error: Conclude latency has not increased and latency actually has increased due to the ISP change.\n",
    "    \n",
    "    \n",
    "- Is the website redesign any good?\n",
    "    - Null Hypothesis: The website redesign did not lead to an increase in click-throughs.\n",
    "    - Alternative Hypothesis: The website redesign led to an increase in click-throughs.\n",
    "    - True Positive: Conclude there was an increase in click-throughs when there was an increase due to the website redesign.\n",
    "    - True Negative: Conclude there was no increase in click-throughs when there was no increase due to the website redesign.\n",
    "    - Type I Error: Conclude there was an increase in click-throughs when there was no increase due to the website redesign.\n",
    "    - Type II Error: Conclude there was no increase in click-throughs when there was an increase due to the website redesign.\n",
    "    \n",
    "    \n",
    "- Is our television ad driving more sales?\n",
    "    - Null Hypothesis: The release of the television ad had no effect on the rate of sales.\n",
    "    - Alternative Hypothesis: The rate of sales increased following the release of the television ad.\n",
    "    - True Positive: Conclude sales rate increased when it actually increased due to the TV ad.\n",
    "    - True Negative: Conclude sales rate did not increase when it actually did not increase due to the TV ad.\n",
    "    - Type I Error: Conclude sales rate increased when it actually did not increase due to the TV ad.\n",
    "    - Type II Error: Conclude sales rate did not increase when it actually did increase due to the TV ad."
   ]
  },
  {
   "cell_type": "markdown",
   "id": "c33b5f28",
   "metadata": {},
   "source": [
    "### T-Test Exercises"
   ]
  },
  {
   "cell_type": "markdown",
   "id": "f0b50b5c",
   "metadata": {},
   "source": [
    "1. Ace Realty wants to determine whether the average time it takes to sell homes is different for its two offices. A sample of 40 sales from office #1 revealed a mean of 90 days and a standard deviation of 15 days. A sample of 50 sales from office #2 revealed a mean of 100 days and a standard deviation of 20 days. Use a .05 level of significance."
   ]
  },
  {
   "cell_type": "code",
   "execution_count": 2,
   "id": "1e1bd3b0",
   "metadata": {},
   "outputs": [],
   "source": [
    "import numpy as np\n",
    "import seaborn as sns\n",
    "import scipy.stats as stats\n",
    "import pandas as pd\n",
    "import matplotlib.pyplot as plt\n",
    "from pydataset import data"
   ]
  },
  {
   "cell_type": "code",
   "execution_count": 3,
   "id": "f1e1a039",
   "metadata": {},
   "outputs": [
    {
     "data": {
      "text/plain": [
       "(225, 400)"
      ]
     },
     "execution_count": 3,
     "metadata": {},
     "output_type": "execute_result"
    }
   ],
   "source": [
    "# variance of office #1, variance of office #2\n",
    "15**2, 20**2\n",
    "# not equal variances"
   ]
  },
  {
   "cell_type": "markdown",
   "id": "702e8bba",
   "metadata": {},
   "source": [
    "$H_{0}$: Mean of sale time for office #1 == mean of sale time for office #2\n",
    "\n",
    "$H_{a}$: Mean of sale time for office #1 != mean of sale time for office #2"
   ]
  },
  {
   "cell_type": "code",
   "execution_count": 7,
   "id": "3ac4328a",
   "metadata": {},
   "outputs": [
    {
     "data": {
      "text/plain": [
       "<matplotlib.legend.Legend at 0x7fa7c905fac0>"
      ]
     },
     "execution_count": 7,
     "metadata": {},
     "output_type": "execute_result"
    },
    {
     "data": {
      "image/png": "[encoded data removed]",
      "text/plain": [
       "<Figure size 432x288 with 1 Axes>"
      ]
     },
     "metadata": {
      "needs_background": "light"
     },
     "output_type": "display_data"
    }
   ],
   "source": [
    "# visualize distributions\n",
    "x = np.arange(50,150)\n",
    "\n",
    "y1=stats.norm(90,15).pdf(x)\n",
    "y2=stats.norm(100,20).pdf(x)\n",
    "\n",
    "plt.plot(x, y1, label = 'office 1')\n",
    "plt.plot(x, y2, label = 'office 2')\n",
    "plt.axvline(90, ls = ':')\n",
    "plt.axvline(100, ls = ':', color = 'orange')\n",
    "\n",
    "plt.legend()"
   ]
  },
  {
   "cell_type": "code",
   "execution_count": 12,
   "id": "09828dd4",
   "metadata": {},
   "outputs": [
    {
     "data": {
      "text/plain": [
       "(-2.7091418459143854, 0.00811206270346016, 0.05)"
      ]
     },
     "execution_count": 12,
     "metadata": {},
     "output_type": "execute_result"
    }
   ],
   "source": [
    "# looking for difference in any direction; 2-tailed test\n",
    "# comparing 2 subsets; 2-sample test\n",
    "# reject null hypothesis if p<alpha\n",
    "\n",
    "# set alpha\n",
    "alpha = 0.05\n",
    "# generate t and p values using t-test\n",
    "t, p = stats.ttest_ind_from_stats(90, 15, 40, 100, 20, 50, equal_var=False)\n",
    "t, p, alpha\n",
    "\n",
    "# p < alpha\n",
    "# reject the null hypothesis\n",
    "# there is a difference in home sale time between offices 1 and 2"
   ]
  },
  {
   "cell_type": "markdown",
   "id": "84c768bd",
   "metadata": {},
   "source": [
    "2. Load the mpg dataset and use it to answer the following questions:\n",
    "\n",
    "- Is there a difference in fuel-efficiency in cars from 2008 vs 1999?\n",
    "\n",
    "$H_{0}$: Mean of mpg_2008 == mpg_1999\n",
    "    \n",
    "$H_{a}$: Mean of mpg_2008 != mpg_1999"
   ]
  },
  {
   "cell_type": "code",
   "execution_count": 13,
   "id": "e18b0bc7",
   "metadata": {},
   "outputs": [
    {
     "data": {
      "text/html": [
       "<div>\n",
       "<style scoped>\n",
       "    .dataframe tbody tr th:only-of-type {\n",
       "        vertical-align: middle;\n",
       "    }\n",
       "\n",
       "    .dataframe tbody tr th {\n",
       "        vertical-align: top;\n",
       "    }\n",
       "\n",
       "    .dataframe thead th {\n",
       "        text-align: right;\n",
       "    }\n",
       "</style>\n",
       "<table border=\"1\" class=\"dataframe\">\n",
       "  <thead>\n",
       "    <tr style=\"text-align: right;\">\n",
       "      <th></th>\n",
       "      <th>manufacturer</th>\n",
       "      <th>model</th>\n",
       "      <th>displ</th>\n",
       "      <th>year</th>\n",
       "      <th>cyl</th>\n",
       "      <th>trans</th>\n",
       "      <th>drv</th>\n",
       "      <th>cty</th>\n",
       "      <th>hwy</th>\n",
       "      <th>fl</th>\n",
       "      <th>class</th>\n",
       "      <th>avg_mpg</th>\n",
       "    </tr>\n",
       "  </thead>\n",
       "  <tbody>\n",
       "    <tr>\n",
       "      <th>1</th>\n",
       "      <td>audi</td>\n",
       "      <td>a4</td>\n",
       "      <td>1.8</td>\n",
       "      <td>1999</td>\n",
       "      <td>4</td>\n",
       "      <td>auto(l5)</td>\n",
       "      <td>f</td>\n",
       "      <td>18</td>\n",
       "      <td>29</td>\n",
       "      <td>p</td>\n",
       "      <td>compact</td>\n",
       "      <td>23.5</td>\n",
       "    </tr>\n",
       "    <tr>\n",
       "      <th>2</th>\n",
       "      <td>audi</td>\n",
       "      <td>a4</td>\n",
       "      <td>1.8</td>\n",
       "      <td>1999</td>\n",
       "      <td>4</td>\n",
       "      <td>manual(m5)</td>\n",
       "      <td>f</td>\n",
       "      <td>21</td>\n",
       "      <td>29</td>\n",
       "      <td>p</td>\n",
       "      <td>compact</td>\n",
       "      <td>25.0</td>\n",
       "    </tr>\n",
       "    <tr>\n",
       "      <th>3</th>\n",
       "      <td>audi</td>\n",
       "      <td>a4</td>\n",
       "      <td>2.0</td>\n",
       "      <td>2008</td>\n",
       "      <td>4</td>\n",
       "      <td>manual(m6)</td>\n",
       "      <td>f</td>\n",
       "      <td>20</td>\n",
       "      <td>31</td>\n",
       "      <td>p</td>\n",
       "      <td>compact</td>\n",
       "      <td>25.5</td>\n",
       "    </tr>\n",
       "    <tr>\n",
       "      <th>4</th>\n",
       "      <td>audi</td>\n",
       "      <td>a4</td>\n",
       "      <td>2.0</td>\n",
       "      <td>2008</td>\n",
       "      <td>4</td>\n",
       "      <td>auto(av)</td>\n",
       "      <td>f</td>\n",
       "      <td>21</td>\n",
       "      <td>30</td>\n",
       "      <td>p</td>\n",
       "      <td>compact</td>\n",
       "      <td>25.5</td>\n",
       "    </tr>\n",
       "    <tr>\n",
       "      <th>5</th>\n",
       "      <td>audi</td>\n",
       "      <td>a4</td>\n",
       "      <td>2.8</td>\n",
       "      <td>1999</td>\n",
       "      <td>6</td>\n",
       "      <td>auto(l5)</td>\n",
       "      <td>f</td>\n",
       "      <td>16</td>\n",
       "      <td>26</td>\n",
       "      <td>p</td>\n",
       "      <td>compact</td>\n",
       "      <td>21.0</td>\n",
       "    </tr>\n",
       "  </tbody>\n",
       "</table>\n",
       "</div>"
      ],
      "text/plain": [
       "  manufacturer model  displ  year  cyl       trans drv  cty  hwy fl    class  \\\n",
       "1         audi    a4    1.8  1999    4    auto(l5)   f   18   29  p  compact   \n",
       "2         audi    a4    1.8  1999    4  manual(m5)   f   21   29  p  compact   \n",
       "3         audi    a4    2.0  2008    4  manual(m6)   f   20   31  p  compact   \n",
       "4         audi    a4    2.0  2008    4    auto(av)   f   21   30  p  compact   \n",
       "5         audi    a4    2.8  1999    6    auto(l5)   f   16   26  p  compact   \n",
       "\n",
       "   avg_mpg  \n",
       "1     23.5  \n",
       "2     25.0  \n",
       "3     25.5  \n",
       "4     25.5  \n",
       "5     21.0  "
      ]
     },
     "execution_count": 13,
     "metadata": {},
     "output_type": "execute_result"
    }
   ],
   "source": [
    "# difference in any direction; 2-tailed test\n",
    "# comparing 2 subgroups; 2-sample test\n",
    "\n",
    "# load data\n",
    "mpg = data('mpg')\n",
    "# add column for average mpg from city & highway mpg\n",
    "mpg['avg_mpg'] = (mpg.cty+mpg.hwy)/2\n",
    "mpg.head()"
   ]
  },
  {
   "cell_type": "code",
   "execution_count": 14,
   "id": "7e3b6752",
   "metadata": {},
   "outputs": [
    {
     "data": {
      "text/plain": [
       "<AxesSubplot:>"
      ]
     },
     "execution_count": 14,
     "metadata": {},
     "output_type": "execute_result"
    },
    {
     "data": {
      "image/png": "[encoded data removed]",
      "text/plain": [
       "<Figure size 432x288 with 1 Axes>"
      ]
     },
     "metadata": {
      "needs_background": "light"
     },
     "output_type": "display_data"
    }
   ],
   "source": [
    "# isolate avg mpg values from 2008\n",
    "mpg_2008 = mpg[mpg['year'] == 2008].avg_mpg\n",
    "# view distribution\n",
    "mpg_2008.hist()"
   ]
  },
  {
   "cell_type": "code",
   "execution_count": 15,
   "id": "3e6cb83e",
   "metadata": {},
   "outputs": [
    {
     "data": {
      "text/plain": [
       "<AxesSubplot:>"
      ]
     },
     "execution_count": 15,
     "metadata": {},
     "output_type": "execute_result"
    },
    {
     "data": {
      "image/png": "[encoded data removed]",
      "text/plain": [
       "<Figure size 432x288 with 1 Axes>"
      ]
     },
     "metadata": {
      "needs_background": "light"
     },
     "output_type": "display_data"
    }
   ],
   "source": [
    "# take mean of avg mpg values from 1999\n",
    "mpg_1999 = mpg[mpg['year'] == 1999].avg_mpg\n",
    "# view distribution\n",
    "mpg_1999.hist()"
   ]
  },
  {
   "cell_type": "code",
   "execution_count": 16,
   "id": "ca7cc677",
   "metadata": {},
   "outputs": [
    {
     "data": {
      "text/plain": [
       "(117, 117)"
      ]
     },
     "execution_count": 16,
     "metadata": {},
     "output_type": "execute_result"
    }
   ],
   "source": [
    "mpg_2008.count(), mpg_1999.count()\n",
    "# >30 observations so normality of distributions is ok; fulfills assumption"
   ]
  },
  {
   "cell_type": "code",
   "execution_count": 37,
   "id": "283c4467",
   "metadata": {},
   "outputs": [
    {
     "data": {
      "text/plain": [
       "(24.097480106100797, 27.122605363984682)"
      ]
     },
     "execution_count": 37,
     "metadata": {},
     "output_type": "execute_result"
    }
   ],
   "source": [
    "# compare variances\n",
    "mpg_2008.var(), mpg_1999.var()\n",
    "# not equal"
   ]
  },
  {
   "cell_type": "code",
   "execution_count": 38,
   "id": "81e6a163",
   "metadata": {},
   "outputs": [
    {
     "data": {
      "text/plain": [
       "(-0.21960177245940962, 0.8263750772060638, 0.05)"
      ]
     },
     "execution_count": 38,
     "metadata": {},
     "output_type": "execute_result"
    }
   ],
   "source": [
    "# use 2-sample t-test to generate t and p values\n",
    "t, p = stats.ttest_ind(mpg_2008,mpg_1999, equal_var=False)\n",
    "t, p, alpha\n",
    "# p > alpha\n",
    "# fail to reject null hypothesis\n",
    "# There is not a significant difference in fuel efficiency between cars from 2008 and cars from 1999"
   ]
  },
  {
   "cell_type": "markdown",
   "id": "9df382a4",
   "metadata": {},
   "source": [
    "- Are compact cars more fuel-efficient than the average car?\n",
    "\n",
    "$H_{0}$: Mean of compact_mpg <= Mean of overall_mpg\n",
    "\n",
    "$H_{a}$: Mean of compact_mpg > Mean of overall_mpg"
   ]
  },
  {
   "cell_type": "code",
   "execution_count": 40,
   "id": "629c747e",
   "metadata": {},
   "outputs": [],
   "source": [
    "# difference in a single direction (compact mpg > avg car mpg?); 1-tailed test (p/2)\n",
    "# comparing subgroup to entire group; 1-sample test\n",
    "# reject null hypothesis if p/2<alpha and t>0\n",
    "\n",
    "# isolate mpg for compact cars\n",
    "compact_mpg = mpg[mpg['class'] == 'compact'].avg_mpg\n",
    "# calculate mean of all cars' mpg\n",
    "overall_mpg = mpg.avg_mpg.mean()"
   ]
  },
  {
   "cell_type": "code",
   "execution_count": 41,
   "id": "622ff744",
   "metadata": {},
   "outputs": [
    {
     "data": {
      "text/plain": [
       "<AxesSubplot:>"
      ]
     },
     "execution_count": 41,
     "metadata": {},
     "output_type": "execute_result"
    },
    {
     "data": {
      "image/png": "[encoded data removed]",
      "text/plain": [
       "<Figure size 432x288 with 1 Axes>"
      ]
     },
     "metadata": {
      "needs_background": "light"
     },
     "output_type": "display_data"
    }
   ],
   "source": [
    "# visualize distribution of compact cars' mpg\n",
    "compact_mpg.hist()"
   ]
  },
  {
   "cell_type": "code",
   "execution_count": 42,
   "id": "a2b83e7b",
   "metadata": {},
   "outputs": [
    {
     "data": {
      "text/plain": [
       "<AxesSubplot:>"
      ]
     },
     "execution_count": 42,
     "metadata": {},
     "output_type": "execute_result"
    },
    {
     "data": {
      "image/png": "[encoded data removed]",
      "text/plain": [
       "<Figure size 432x288 with 1 Axes>"
      ]
     },
     "metadata": {
      "needs_background": "light"
     },
     "output_type": "display_data"
    }
   ],
   "source": [
    "# visualize distribution of all cars' mpg\n",
    "mpg.avg_mpg.hist()"
   ]
  },
  {
   "cell_type": "code",
   "execution_count": 44,
   "id": "68a2fbd3",
   "metadata": {},
   "outputs": [
    {
     "data": {
      "text/plain": [
       "(7.896888573132535, 2.0992818971585668e-10, 0.05)"
      ]
     },
     "execution_count": 44,
     "metadata": {},
     "output_type": "execute_result"
    }
   ],
   "source": [
    "# use 1-sample t-test to generate t and p values\n",
    "t, p = stats.ttest_1samp(compact_mpg,overall_mpg)\n",
    "t, p/2, alpha\n",
    "\n",
    "# p/2 < alpha & t > 0\n",
    "# reject null hypothesis\n",
    "# On average, compact cars are more fuel efficient than the average car"
   ]
  },
  {
   "cell_type": "markdown",
   "id": "599216ee",
   "metadata": {},
   "source": [
    "- Do manual cars get better gas mileage than automatic cars?\n",
    "\n",
    "$H_{0}$: Mean of manual_mpg <= Mean of automatic_mpg\n",
    "\n",
    "$H_{a}$: Mean of manual_mpg > Mean of automatic_mpg"
   ]
  },
  {
   "cell_type": "code",
   "execution_count": 48,
   "id": "a1264e15",
   "metadata": {},
   "outputs": [
    {
     "data": {
      "text/plain": [
       "(26.635167464114826, 21.942777233382337)"
      ]
     },
     "execution_count": 48,
     "metadata": {},
     "output_type": "execute_result"
    }
   ],
   "source": [
    "# difference in a single direction (manual mpg > automatic mpg?); 1-tailed test\n",
    "# comparing 2 subgroups; 2-sample test\n",
    "# reject null hypothesis if p/2 < alpha and t > 0\n",
    "\n",
    "# isolate mpg of manual and automatic cars\n",
    "manual_mpg = mpg[mpg['trans'].str.contains('manual')].avg_mpg\n",
    "automatic_mpg = mpg[mpg['trans'].str.contains('auto')].avg_mpg\n",
    "# compare variances\n",
    "manual_mpg.var(), automatic_mpg.var()"
   ]
  },
  {
   "cell_type": "code",
   "execution_count": 49,
   "id": "1ecd63d0",
   "metadata": {},
   "outputs": [
    {
     "data": {
      "text/plain": [
       "<AxesSubplot:>"
      ]
     },
     "execution_count": 49,
     "metadata": {},
     "output_type": "execute_result"
    },
    {
     "data": {
      "image/png": "[encoded data removed]",
      "text/plain": [
       "<Figure size 432x288 with 1 Axes>"
      ]
     },
     "metadata": {
      "needs_background": "light"
     },
     "output_type": "display_data"
    }
   ],
   "source": [
    "# visualize distribution of manual cars' mpg\n",
    "manual_mpg.hist()"
   ]
  },
  {
   "cell_type": "code",
   "execution_count": 50,
   "id": "ef64802e",
   "metadata": {},
   "outputs": [
    {
     "data": {
      "text/plain": [
       "<AxesSubplot:>"
      ]
     },
     "execution_count": 50,
     "metadata": {},
     "output_type": "execute_result"
    },
    {
     "data": {
      "image/png": "[encoded data removed]",
      "text/plain": [
       "<Figure size 432x288 with 1 Axes>"
      ]
     },
     "metadata": {
      "needs_background": "light"
     },
     "output_type": "display_data"
    }
   ],
   "source": [
    "# visualize distribution of automatic cars' mpg\n",
    "automatic_mpg.hist()"
   ]
  },
  {
   "cell_type": "code",
   "execution_count": 51,
   "id": "615a1ce6",
   "metadata": {},
   "outputs": [
    {
     "data": {
      "text/plain": [
       "(4.443514012903071, 8.976124499958965e-06, 0.05)"
      ]
     },
     "execution_count": 51,
     "metadata": {},
     "output_type": "execute_result"
    }
   ],
   "source": [
    "# use 2-sample t-test to generate t and p values\n",
    "t, p = stats.ttest_ind(manual_mpg,automatic_mpg, equal_var=False)\n",
    "t, p/2, alpha\n",
    "\n",
    "# p/2 < alpha & t > 0\n",
    "# reject null hypothesis\n",
    "# On average, manual cars get better gas mileage than automatic cars."
   ]
  }
 ],
 "metadata": {
  "kernelspec": {
   "display_name": "Python 3",
   "language": "python",
   "name": "python3"
  },
  "language_info": {
   "codemirror_mode": {
    "name": "ipython",
    "version": 3
   },
   "file_extension": ".py",
   "mimetype": "text/x-python",
   "name": "python",
   "nbconvert_exporter": "python",
   "pygments_lexer": "ipython3",
   "version": "3.8.8"
  }
 },
 "nbformat": 4,
 "nbformat_minor": 5
}
